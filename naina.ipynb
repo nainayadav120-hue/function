{
  "nbformat": 4,
  "nbformat_minor": 0,
  "metadata": {
    "colab": {
      "provenance": []
    },
    "kernelspec": {
      "name": "python3",
      "display_name": "Python 3"
    },
    "language_info": {
      "name": "python"
    }
  },
  "cells": [
    {
      "cell_type": "code",
      "execution_count": 6,
      "metadata": {
        "colab": {
          "base_uri": "https://localhost:8080/",
          "height": 35
        },
        "id": "yR7M_144Fn8t",
        "outputId": "e0f02c37-fff6-4eb9-c0ab-5d185b299e0e"
      },
      "outputs": [
        {
          "output_type": "execute_result",
          "data": {
            "text/plain": [
              "'this is answer'"
            ],
            "application/vnd.google.colaboratory.intrinsic+json": {
              "type": "string"
            }
          },
          "metadata": {},
          "execution_count": 6
        }
      ],
      "source": [
        "#question\n",
        "'''this is answer'''"
      ]
    },
    {
      "cell_type": "markdown",
      "source": [
        "#function"
      ],
      "metadata": {
        "id": "KahdYHXaF5_x"
      }
    }
  ]
}